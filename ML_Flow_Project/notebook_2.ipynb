{
 "cells": [
  {
   "metadata": {},
   "cell_type": "markdown",
   "source": "## here we'll see 4 experiments with different models on the same dataset",
   "id": "3c07c22ad99daca9"
  },
  {
   "cell_type": "code",
   "id": "initial_id",
   "metadata": {
    "collapsed": true,
    "ExecuteTime": {
     "end_time": "2025-01-18T21:16:57.654776Z",
     "start_time": "2025-01-18T21:16:57.594813Z"
    }
   },
   "source": [
    "import numpy as np\n",
    "from sklearn.datasets import make_classification\n",
    "from sklearn.model_selection import train_test_split\n",
    "from sklearn.linear_model import LogisticRegression\n",
    "from sklearn.ensemble import RandomForestClassifier\n",
    "from xgboost import XGBClassifier\n",
    "from sklearn.metrics import classification_report\n",
    "import warnings\n",
    "import mlflow\n",
    "warnings.filterwarnings('ignore')"
   ],
   "outputs": [],
   "execution_count": 202
  },
  {
   "metadata": {
    "ExecuteTime": {
     "end_time": "2025-01-18T21:16:58.059518Z",
     "start_time": "2025-01-18T21:16:58.053970Z"
    }
   },
   "cell_type": "code",
   "source": [
    "# import mlflow\n",
    "# \n",
    "# # End any currently active MLflow run\n",
    "# if mlflow.active_run():\n",
    "#     mlflow.end_run()\n",
    "#     mlflow.start_run()"
   ],
   "id": "b0774dcbe84c02ad",
   "outputs": [],
   "execution_count": 203
  },
  {
   "metadata": {
    "ExecuteTime": {
     "end_time": "2025-01-18T21:16:58.118174Z",
     "start_time": "2025-01-18T21:16:58.062145Z"
    }
   },
   "cell_type": "code",
   "source": [
    "#imbalanced binary classification dataset\n",
    "X, y = make_classification(n_samples=1000, n_features=10, n_informative=2, n_redundant=8, \n",
    "                           weights=[0.9, 0.1], flip_y=0, random_state=42)\n",
    "\n",
    "X"
   ],
   "id": "f276668970be5a3a",
   "outputs": [
    {
     "data": {
      "text/plain": [
       "array([[-2.33224581, -1.73015228, -4.05388142, ...,  0.85612326,\n",
       "        -3.13555024,  1.22003574],\n",
       "       [ 0.78663065,  0.72655494,  1.07774555, ..., -0.32878979,\n",
       "         0.66469403, -0.32691647],\n",
       "       [ 1.4709666 ,  1.32562619,  2.08216446, ..., -0.60558465,\n",
       "         1.33361742, -0.63083993],\n",
       "       ...,\n",
       "       [-2.78244158, -1.9136032 , -5.14120195, ...,  0.97924357,\n",
       "        -4.15435048,  1.54457183],\n",
       "       [-0.43118285, -0.76179492,  0.14539007, ...,  0.2819945 ,\n",
       "         0.6344439 , -0.0358334 ],\n",
       "       [-1.41528041, -1.09134101, -2.37613076, ...,  0.53112078,\n",
       "        -1.78892693,  0.71585107]])"
      ]
     },
     "execution_count": 204,
     "metadata": {},
     "output_type": "execute_result"
    }
   ],
   "execution_count": 204
  },
  {
   "metadata": {
    "ExecuteTime": {
     "end_time": "2025-01-18T21:16:58.222125Z",
     "start_time": "2025-01-18T21:16:58.122285Z"
    }
   },
   "cell_type": "code",
   "source": "y",
   "id": "429031ad4a3d4127",
   "outputs": [
    {
     "data": {
      "text/plain": [
       "array([0, 1, 1, 0, 0, 0, 0, 0, 1, 0, 0, 0, 0, 0, 0, 0, 0, 0, 0, 1, 0, 0,\n",
       "       0, 0, 0, 0, 0, 0, 0, 0, 0, 0, 0, 0, 0, 0, 0, 0, 1, 1, 0, 0, 0, 0,\n",
       "       0, 0, 0, 0, 0, 0, 0, 1, 0, 0, 0, 0, 0, 0, 0, 0, 0, 0, 0, 0, 0, 0,\n",
       "       0, 1, 0, 0, 0, 0, 0, 0, 0, 0, 0, 0, 0, 0, 1, 0, 0, 0, 0, 0, 0, 0,\n",
       "       1, 0, 0, 0, 0, 0, 0, 0, 0, 0, 0, 0, 0, 0, 0, 0, 0, 1, 0, 1, 0, 0,\n",
       "       0, 1, 0, 0, 0, 0, 0, 0, 0, 0, 0, 1, 0, 0, 0, 0, 0, 0, 0, 0, 0, 0,\n",
       "       0, 0, 0, 0, 0, 0, 0, 0, 0, 0, 0, 0, 0, 0, 0, 0, 0, 0, 0, 1, 0, 0,\n",
       "       0, 0, 0, 0, 0, 0, 0, 0, 1, 0, 0, 0, 0, 0, 0, 0, 0, 0, 0, 0, 0, 0,\n",
       "       0, 0, 0, 0, 0, 0, 0, 0, 0, 0, 0, 0, 1, 0, 0, 0, 0, 0, 0, 0, 0, 0,\n",
       "       0, 1, 0, 0, 0, 1, 0, 0, 0, 0, 0, 0, 0, 0, 0, 0, 0, 0, 0, 0, 0, 0,\n",
       "       0, 0, 0, 0, 0, 0, 0, 0, 0, 0, 1, 0, 0, 0, 0, 0, 0, 0, 0, 0, 0, 0,\n",
       "       0, 1, 0, 0, 0, 0, 0, 0, 0, 0, 0, 0, 0, 0, 0, 0, 0, 0, 0, 0, 0, 0,\n",
       "       0, 0, 0, 0, 0, 0, 0, 0, 1, 0, 0, 0, 0, 0, 0, 0, 0, 0, 0, 0, 0, 0,\n",
       "       0, 0, 0, 0, 1, 0, 0, 0, 0, 0, 1, 0, 0, 0, 1, 1, 0, 0, 0, 0, 0, 0,\n",
       "       0, 0, 0, 0, 0, 0, 0, 0, 0, 0, 0, 0, 0, 0, 0, 0, 0, 0, 0, 0, 0, 0,\n",
       "       1, 0, 0, 0, 0, 0, 0, 0, 0, 0, 0, 0, 0, 0, 0, 0, 0, 0, 0, 0, 0, 0,\n",
       "       0, 0, 0, 0, 0, 0, 0, 0, 0, 1, 0, 0, 1, 0, 1, 0, 0, 0, 0, 0, 0, 0,\n",
       "       0, 0, 0, 0, 0, 0, 0, 0, 0, 0, 1, 0, 0, 0, 0, 0, 0, 0, 0, 0, 0, 0,\n",
       "       0, 0, 0, 0, 0, 0, 0, 0, 0, 0, 0, 0, 0, 0, 0, 0, 0, 0, 0, 0, 0, 0,\n",
       "       0, 0, 0, 0, 0, 0, 0, 0, 0, 0, 0, 0, 0, 0, 0, 0, 0, 0, 0, 0, 0, 0,\n",
       "       1, 0, 0, 0, 1, 0, 0, 1, 0, 0, 0, 0, 0, 0, 0, 0, 0, 0, 0, 1, 0, 0,\n",
       "       0, 0, 0, 1, 0, 0, 0, 0, 0, 0, 1, 1, 0, 1, 0, 0, 0, 0, 1, 0, 0, 0,\n",
       "       1, 0, 0, 0, 0, 0, 0, 0, 0, 0, 0, 1, 0, 0, 0, 0, 0, 0, 0, 1, 1, 0,\n",
       "       0, 0, 0, 0, 0, 0, 0, 0, 0, 0, 0, 0, 0, 1, 0, 0, 0, 0, 0, 0, 0, 1,\n",
       "       0, 0, 1, 0, 0, 0, 0, 0, 0, 0, 0, 0, 0, 0, 1, 0, 0, 0, 0, 0, 0, 1,\n",
       "       0, 0, 0, 0, 0, 0, 1, 0, 0, 0, 0, 0, 0, 0, 0, 0, 0, 0, 0, 0, 0, 0,\n",
       "       0, 0, 0, 1, 1, 0, 0, 0, 0, 0, 0, 0, 0, 1, 0, 0, 0, 1, 0, 0, 0, 0,\n",
       "       0, 1, 0, 0, 0, 0, 0, 0, 1, 0, 0, 0, 0, 0, 0, 0, 0, 0, 0, 0, 0, 0,\n",
       "       0, 0, 0, 0, 0, 0, 0, 0, 0, 0, 0, 0, 0, 0, 1, 0, 0, 0, 0, 0, 0, 0,\n",
       "       0, 0, 0, 0, 1, 1, 0, 0, 0, 0, 0, 1, 0, 0, 0, 0, 1, 0, 1, 0, 0, 0,\n",
       "       0, 0, 0, 0, 0, 0, 0, 0, 0, 0, 0, 0, 0, 0, 0, 0, 0, 0, 0, 0, 0, 0,\n",
       "       0, 0, 0, 0, 0, 0, 0, 0, 0, 0, 1, 0, 0, 0, 0, 0, 0, 0, 0, 0, 0, 1,\n",
       "       0, 0, 0, 0, 0, 0, 0, 0, 0, 0, 0, 0, 0, 1, 0, 0, 0, 0, 0, 0, 0, 0,\n",
       "       0, 0, 1, 0, 0, 0, 1, 0, 0, 0, 0, 1, 0, 0, 0, 0, 0, 0, 0, 0, 0, 0,\n",
       "       0, 0, 0, 0, 0, 1, 0, 0, 1, 0, 0, 1, 1, 0, 0, 0, 0, 0, 0, 0, 0, 0,\n",
       "       1, 0, 0, 0, 0, 0, 0, 0, 0, 0, 0, 0, 0, 0, 0, 0, 0, 0, 0, 0, 0, 0,\n",
       "       0, 0, 0, 0, 0, 0, 0, 0, 0, 0, 0, 0, 1, 0, 0, 1, 0, 1, 0, 0, 1, 0,\n",
       "       0, 0, 0, 0, 0, 0, 0, 0, 0, 0, 0, 0, 0, 0, 0, 0, 0, 0, 0, 0, 1, 0,\n",
       "       0, 0, 0, 0, 1, 0, 0, 0, 0, 0, 0, 0, 0, 0, 0, 0, 0, 0, 1, 0, 1, 0,\n",
       "       0, 0, 0, 0, 0, 1, 1, 0, 0, 0, 0, 0, 0, 0, 0, 0, 0, 1, 0, 0, 0, 0,\n",
       "       0, 0, 1, 0, 0, 0, 1, 0, 1, 1, 0, 0, 0, 1, 0, 0, 0, 0, 0, 0, 0, 0,\n",
       "       0, 0, 0, 1, 0, 0, 1, 0, 0, 0, 0, 0, 0, 0, 0, 1, 0, 0, 0, 0, 0, 0,\n",
       "       1, 0, 0, 0, 0, 0, 0, 0, 0, 0, 0, 0, 0, 0, 0, 0, 0, 0, 0, 1, 1, 0,\n",
       "       0, 1, 0, 0, 0, 0, 0, 0, 0, 0, 1, 0, 0, 0, 0, 0, 0, 1, 1, 0, 0, 0,\n",
       "       0, 0, 0, 0, 0, 0, 0, 0, 0, 0, 0, 0, 0, 0, 1, 0, 0, 0, 0, 0, 0, 0,\n",
       "       0, 0, 0, 0, 0, 0, 0, 0, 0, 0])"
      ]
     },
     "execution_count": 205,
     "metadata": {},
     "output_type": "execute_result"
    }
   ],
   "execution_count": 205
  },
  {
   "metadata": {
    "ExecuteTime": {
     "end_time": "2025-01-18T21:16:58.291348Z",
     "start_time": "2025-01-18T21:16:58.232302Z"
    }
   },
   "cell_type": "code",
   "source": "np.unique(y, return_counts=True) # as u can see, the dataset is Unbalanced\n",
   "id": "894613d7a73e23b0",
   "outputs": [
    {
     "data": {
      "text/plain": [
       "(array([0, 1]), array([900, 100], dtype=int64))"
      ]
     },
     "execution_count": 206,
     "metadata": {},
     "output_type": "execute_result"
    }
   ],
   "execution_count": 206
  },
  {
   "metadata": {
    "ExecuteTime": {
     "end_time": "2025-01-18T21:16:58.322039Z",
     "start_time": "2025-01-18T21:16:58.294903Z"
    }
   },
   "cell_type": "code",
   "source": [
    "x_train, x_test, y_train, y_test = train_test_split(X, y, test_size=0.3, stratify=y, random_state=42)\n",
    "\n",
    "reports = []\n"
   ],
   "id": "c3d18893f3702eba",
   "outputs": [],
   "execution_count": 207
  },
  {
   "metadata": {},
   "cell_type": "markdown",
   "source": "## Experiment1: Logistic Regression Classifier",
   "id": "fb454c29769d231"
  },
  {
   "metadata": {
    "ExecuteTime": {
     "end_time": "2025-01-18T21:16:58.369626Z",
     "start_time": "2025-01-18T21:16:58.327074Z"
    }
   },
   "cell_type": "code",
   "source": [
    "log_reg = LogisticRegression(C=1, solver = 'liblinear')\n",
    "log_reg.fit(x_train, y_train)\n",
    "y_pred_log_reg = log_reg.predict(x_test)\n",
    "print(classification_report(y_test, y_pred_log_reg))"
   ],
   "id": "37609e724a541d2b",
   "outputs": [
    {
     "name": "stdout",
     "output_type": "stream",
     "text": [
      "              precision    recall  f1-score   support\n",
      "\n",
      "           0       0.95      0.96      0.95       270\n",
      "           1       0.60      0.50      0.55        30\n",
      "\n",
      "    accuracy                           0.92       300\n",
      "   macro avg       0.77      0.73      0.75       300\n",
      "weighted avg       0.91      0.92      0.91       300\n",
      "\n"
     ]
    }
   ],
   "execution_count": 208
  },
  {
   "metadata": {},
   "cell_type": "markdown",
   "source": "Acceptable on the first class, Horriblly bad on the second class, because the dataset was unbalanced",
   "id": "4601b5d136b38125"
  },
  {
   "metadata": {
    "ExecuteTime": {
     "end_time": "2025-01-18T21:16:58.398290Z",
     "start_time": "2025-01-18T21:16:58.372149Z"
    }
   },
   "cell_type": "code",
   "source": [
    "report = classification_report(y_test, y_pred_log_reg, output_dict=True)\n",
    "reports.append(report)"
   ],
   "id": "6d0c558597c38d0a",
   "outputs": [],
   "execution_count": 209
  },
  {
   "metadata": {},
   "cell_type": "markdown",
   "source": "now a logistic regressor with different params",
   "id": "39e8897162538fc5"
  },
  {
   "metadata": {
    "ExecuteTime": {
     "end_time": "2025-01-18T21:16:58.445056Z",
     "start_time": "2025-01-18T21:16:58.400148Z"
    }
   },
   "cell_type": "code",
   "source": [
    "log_reg_sec = LogisticRegression(C=0.5, solver = 'liblinear')\n",
    "log_reg_sec.fit(x_train, y_train)\n",
    "y_pred_log_reg = log_reg_sec.predict(x_test)\n",
    "print(classification_report(y_test, y_pred_log_reg))\n",
    "\n",
    "report = classification_report(y_test, y_pred_log_reg, output_dict=True)\n",
    "reports.append(report)"
   ],
   "id": "c7023e204fa909d5",
   "outputs": [
    {
     "name": "stdout",
     "output_type": "stream",
     "text": [
      "              precision    recall  f1-score   support\n",
      "\n",
      "           0       0.95      0.96      0.95       270\n",
      "           1       0.58      0.50      0.54        30\n",
      "\n",
      "    accuracy                           0.91       300\n",
      "   macro avg       0.76      0.73      0.74       300\n",
      "weighted avg       0.91      0.91      0.91       300\n",
      "\n"
     ]
    }
   ],
   "execution_count": 210
  },
  {
   "metadata": {},
   "cell_type": "markdown",
   "source": "##  Experiment 2: Random Forest Classifier\n",
   "id": "3ebac743f27d6d03"
  },
  {
   "metadata": {
    "ExecuteTime": {
     "end_time": "2025-01-18T21:16:58.705894Z",
     "start_time": "2025-01-18T21:16:58.447227Z"
    }
   },
   "cell_type": "code",
   "source": [
    "rf = RandomForestClassifier(n_estimators=30, max_depth=3)\n",
    "rf.fit(x_train, y_train)\n",
    "y_pred_rf = rf.predict(x_test)\n",
    "print(classification_report(y_test, y_pred_rf))"
   ],
   "id": "1296abccc02e0776",
   "outputs": [
    {
     "name": "stdout",
     "output_type": "stream",
     "text": [
      "              precision    recall  f1-score   support\n",
      "\n",
      "           0       0.96      1.00      0.98       270\n",
      "           1       0.95      0.67      0.78        30\n",
      "\n",
      "    accuracy                           0.96       300\n",
      "   macro avg       0.96      0.83      0.88       300\n",
      "weighted avg       0.96      0.96      0.96       300\n",
      "\n"
     ]
    }
   ],
   "execution_count": 211
  },
  {
   "metadata": {},
   "cell_type": "markdown",
   "source": "performance on the second class has improved, recall still low",
   "id": "41fdf92da4d9e65f"
  },
  {
   "metadata": {
    "ExecuteTime": {
     "end_time": "2025-01-18T21:16:58.729306Z",
     "start_time": "2025-01-18T21:16:58.705894Z"
    }
   },
   "cell_type": "code",
   "source": [
    "report = classification_report(y_test, y_pred_rf, output_dict=True)\n",
    "reports.append(report)"
   ],
   "id": "116ab48abb216c18",
   "outputs": [],
   "execution_count": 212
  },
  {
   "metadata": {},
   "cell_type": "markdown",
   "source": "## Experiment 3: XGBoost",
   "id": "b201156bbca66b98"
  },
  {
   "metadata": {
    "ExecuteTime": {
     "end_time": "2025-01-18T21:16:58.837163Z",
     "start_time": "2025-01-18T21:16:58.732153Z"
    }
   },
   "cell_type": "code",
   "source": [
    "xgb = XGBClassifier(use_label_encoder=False, eval_metric='logloss')\n",
    "xgb.fit(x_train, y_train)\n",
    "y_pred_xgb = xgb.predict(x_test)\n",
    "print(classification_report(y_test, y_pred_xgb))"
   ],
   "id": "aa0ba0683bd0bf87",
   "outputs": [
    {
     "name": "stdout",
     "output_type": "stream",
     "text": [
      "              precision    recall  f1-score   support\n",
      "\n",
      "           0       0.98      1.00      0.99       270\n",
      "           1       0.96      0.80      0.87        30\n",
      "\n",
      "    accuracy                           0.98       300\n",
      "   macro avg       0.97      0.90      0.93       300\n",
      "weighted avg       0.98      0.98      0.98       300\n",
      "\n"
     ]
    }
   ],
   "execution_count": 213
  },
  {
   "metadata": {},
   "cell_type": "markdown",
   "source": "Performance improved, Not the best result we can get though",
   "id": "66585bb226098203"
  },
  {
   "metadata": {
    "ExecuteTime": {
     "end_time": "2025-01-18T21:16:58.872874Z",
     "start_time": "2025-01-18T21:16:58.837163Z"
    }
   },
   "cell_type": "code",
   "source": [
    "report = classification_report(y_test, y_pred_xgb, output_dict=True)\n",
    "reports.append(report)"
   ],
   "id": "7f528353cf5bf4a9",
   "outputs": [],
   "execution_count": 214
  },
  {
   "metadata": {},
   "cell_type": "markdown",
   "source": "## Experiment 4: XGBoost after handling the class imbalance using SMOTETomek Technique",
   "id": "bbb5d53f421a11f0"
  },
  {
   "metadata": {
    "ExecuteTime": {
     "end_time": "2025-01-18T21:16:58.927658Z",
     "start_time": "2025-01-18T21:16:58.892141Z"
    }
   },
   "cell_type": "code",
   "source": [
    "from imblearn.combine import SMOTETomek\n",
    "\n",
    "\n",
    "smt = SMOTETomek(random_state=42)\n",
    "x_train_res, y_train_res = smt.fit_resample(x_train, y_train)\n",
    "np.unique(y_train_res, return_counts=True)\n"
   ],
   "id": "14ff16e6dc372960",
   "outputs": [
    {
     "data": {
      "text/plain": [
       "(array([0, 1]), array([619, 619], dtype=int64))"
      ]
     },
     "execution_count": 215,
     "metadata": {},
     "output_type": "execute_result"
    }
   ],
   "execution_count": 215
  },
  {
   "metadata": {},
   "cell_type": "markdown",
   "source": "class balanced now",
   "id": "e33e932667da8bb7"
  },
  {
   "metadata": {
    "ExecuteTime": {
     "end_time": "2025-01-18T21:16:59.079316Z",
     "start_time": "2025-01-18T21:16:58.932192Z"
    }
   },
   "cell_type": "code",
   "source": [
    "xgb_bal = XGBClassifier(use_label_encoder=False, eval_metric='logloss')\n",
    "xgb_bal.fit(x_train_res, y_train_res)\n",
    "y_pred_xgb = xgb_bal.predict(x_test)\n",
    "print(classification_report(y_test, y_pred_xgb))"
   ],
   "id": "7a1cfb80091c4d93",
   "outputs": [
    {
     "name": "stdout",
     "output_type": "stream",
     "text": [
      "              precision    recall  f1-score   support\n",
      "\n",
      "           0       0.98      0.98      0.98       270\n",
      "           1       0.81      0.83      0.82        30\n",
      "\n",
      "    accuracy                           0.96       300\n",
      "   macro avg       0.89      0.91      0.90       300\n",
      "weighted avg       0.96      0.96      0.96       300\n",
      "\n"
     ]
    }
   ],
   "execution_count": 216
  },
  {
   "metadata": {},
   "cell_type": "markdown",
   "source": "recall improved slightly, the precision dropped a little though.",
   "id": "41639e21de67256a"
  },
  {
   "metadata": {
    "ExecuteTime": {
     "end_time": "2025-01-18T21:16:59.097706Z",
     "start_time": "2025-01-18T21:16:59.079316Z"
    }
   },
   "cell_type": "code",
   "source": [
    "report = classification_report(y_test, y_pred_xgb, output_dict=True)\n",
    "reports.append(report)"
   ],
   "id": "981b5dbd289c4f6e",
   "outputs": [],
   "execution_count": 217
  },
  {
   "metadata": {},
   "cell_type": "markdown",
   "source": "## Experiment 5: Logistic regressor (C=1) on balanced Data",
   "id": "ed33f78ba28d9181"
  },
  {
   "metadata": {
    "ExecuteTime": {
     "end_time": "2025-01-18T21:16:59.122802Z",
     "start_time": "2025-01-18T21:16:59.097706Z"
    }
   },
   "cell_type": "code",
   "source": [
    "log_reg_bal = LogisticRegression(C=1, solver = 'liblinear')\n",
    "log_reg_bal.fit(x_train_res, y_train_res)\n",
    "y_pred_log_reg_balanced = log_reg_bal.predict(x_test)\n",
    "print(classification_report(y_test, y_pred_log_reg_balanced))"
   ],
   "id": "74e634adacd55624",
   "outputs": [
    {
     "name": "stdout",
     "output_type": "stream",
     "text": [
      "              precision    recall  f1-score   support\n",
      "\n",
      "           0       0.98      0.88      0.93       270\n",
      "           1       0.45      0.87      0.59        30\n",
      "\n",
      "    accuracy                           0.88       300\n",
      "   macro avg       0.72      0.87      0.76       300\n",
      "weighted avg       0.93      0.88      0.90       300\n",
      "\n"
     ]
    }
   ],
   "execution_count": 218
  },
  {
   "metadata": {
    "ExecuteTime": {
     "end_time": "2025-01-18T21:16:59.145373Z",
     "start_time": "2025-01-18T21:16:59.122802Z"
    }
   },
   "cell_type": "code",
   "source": [
    "report = classification_report(y_test, y_pred_log_reg_balanced, output_dict=True)\n",
    "reports.append(report)\n",
    "report"
   ],
   "id": "459470ac48685b12",
   "outputs": [
    {
     "data": {
      "text/plain": [
       "{'0': {'precision': 0.9834710743801653,\n",
       "  'recall': 0.8814814814814815,\n",
       "  'f1-score': 0.9296875,\n",
       "  'support': 270.0},\n",
       " '1': {'precision': 0.4482758620689655,\n",
       "  'recall': 0.8666666666666667,\n",
       "  'f1-score': 0.5909090909090909,\n",
       "  'support': 30.0},\n",
       " 'accuracy': 0.88,\n",
       " 'macro avg': {'precision': 0.7158734682245654,\n",
       "  'recall': 0.8740740740740741,\n",
       "  'f1-score': 0.7602982954545454,\n",
       "  'support': 300.0},\n",
       " 'weighted avg': {'precision': 0.9299515531490453,\n",
       "  'recall': 0.88,\n",
       "  'f1-score': 0.8958096590909091,\n",
       "  'support': 300.0}}"
      ]
     },
     "execution_count": 219,
     "metadata": {},
     "output_type": "execute_result"
    }
   ],
   "execution_count": 219
  },
  {
   "metadata": {},
   "cell_type": "markdown",
   "source": "### Random forest on Balanced Data",
   "id": "7803ec6fd9c08d14"
  },
  {
   "metadata": {
    "ExecuteTime": {
     "end_time": "2025-01-18T21:16:59.253187Z",
     "start_time": "2025-01-18T21:16:59.145373Z"
    }
   },
   "cell_type": "code",
   "source": [
    "rf_bal = RandomForestClassifier(n_estimators=30, max_depth=3)\n",
    "rf_bal.fit(x_train_res, y_train_res)\n",
    "y_pred_rf_balanced = rf_bal.predict(x_test)\n",
    "print(classification_report(y_test, y_pred_rf_balanced))"
   ],
   "id": "40d59ec04770ea8c",
   "outputs": [
    {
     "name": "stdout",
     "output_type": "stream",
     "text": [
      "              precision    recall  f1-score   support\n",
      "\n",
      "           0       0.99      0.91      0.95       270\n",
      "           1       0.54      0.90      0.68        30\n",
      "\n",
      "    accuracy                           0.91       300\n",
      "   macro avg       0.76      0.91      0.81       300\n",
      "weighted avg       0.94      0.91      0.92       300\n",
      "\n"
     ]
    }
   ],
   "execution_count": 220
  },
  {
   "metadata": {
    "ExecuteTime": {
     "end_time": "2025-01-18T21:16:59.272583Z",
     "start_time": "2025-01-18T21:16:59.253187Z"
    }
   },
   "cell_type": "code",
   "source": [
    "report = classification_report(y_test, y_pred_rf_balanced, output_dict=True)\n",
    "reports.append(report)\n",
    "report"
   ],
   "id": "797869036eb48dd4",
   "outputs": [
    {
     "data": {
      "text/plain": [
       "{'0': {'precision': 0.988,\n",
       "  'recall': 0.9148148148148149,\n",
       "  'f1-score': 0.95,\n",
       "  'support': 270.0},\n",
       " '1': {'precision': 0.54, 'recall': 0.9, 'f1-score': 0.675, 'support': 30.0},\n",
       " 'accuracy': 0.9133333333333333,\n",
       " 'macro avg': {'precision': 0.764,\n",
       "  'recall': 0.9074074074074074,\n",
       "  'f1-score': 0.8125,\n",
       "  'support': 300.0},\n",
       " 'weighted avg': {'precision': 0.9431999999999999,\n",
       "  'recall': 0.9133333333333333,\n",
       "  'f1-score': 0.9225,\n",
       "  'support': 300.0}}"
      ]
     },
     "execution_count": 221,
     "metadata": {},
     "output_type": "execute_result"
    }
   ],
   "execution_count": 221
  },
  {
   "metadata": {},
   "cell_type": "markdown",
   "source": "## Tracking the experiments",
   "id": "2063e3ddd2c467b"
  },
  {
   "metadata": {
    "ExecuteTime": {
     "end_time": "2025-01-18T21:16:59.293590Z",
     "start_time": "2025-01-18T21:16:59.272583Z"
    }
   },
   "cell_type": "code",
   "source": [
    "models = [\n",
    "    {\n",
    "        \"name\": \"Logistic Regression (Imbalanced c = 1)\", \n",
    "        \"model\": log_reg,\n",
    "        \"params\": {\n",
    "            \"name\": \"LR c=1 IM\", \n",
    "            \"C\": 1,\n",
    "            \"solver\": \"liblinear\"\n",
    "        }\n",
    "    },\n",
    "    {\n",
    "        \"name\": \"Logistic Regression (Imbalanced c = 0.5)\", \n",
    "        \"model\": log_reg_sec,\n",
    "        \"params\": {\n",
    "            \"name\": \"LR c=0.5 IM\", \n",
    "            \"C\": 0.5,\n",
    "            \"solver\": \"liblinear\"\n",
    "        }\n",
    "    },\n",
    "    {\n",
    "        \"name\": \"Random Forest (Imbalanced)\",\n",
    "        \"model\": rf, \n",
    "        \"params\": {\n",
    "            \"name\": \"RF IM\",\n",
    "            \"n_estimators\": 30,\n",
    "            \"max_depth\": 3\n",
    "        }\n",
    "    },\n",
    "    {\n",
    "        \"name\": \"XGBClassifier (Imbalanced)\",\n",
    "        \"model\": xgb, \n",
    "\n",
    "        \"params\": {\n",
    "            \"name\": \"XGB\",\n",
    "            \"use_label_encoder\": False,\n",
    "            \"eval_metric\": 'logloss'\n",
    "        }\n",
    "    },\n",
    "    {\n",
    "        \"name\": \"XGBSMOTE\",\n",
    "        \"model\": xgb_bal, \n",
    "\n",
    "        \"params\": {\n",
    "            \"name\": \"XGBSMOTE\",\n",
    "            \"use_label_encoder\": False,\n",
    "            \"eval_metric\": 'logloss'\n",
    "        }\n",
    "    },\n",
    "    {\n",
    "        \"name\": \"Logistic Regression (balanced c = 1)\", \n",
    "        \"model\": log_reg_bal,\n",
    "        \"params\": {\n",
    "            \"name\": \"LR c=1 BAL\", \n",
    "            \"C\": 1,\n",
    "            \"solver\": \"liblinear\"\n",
    "        }\n",
    "    },\n",
    "    {\n",
    "        \"name\": \"Random Forest (balanced)\",\n",
    "        \"model\": rf_bal, \n",
    "        \"params\": {\n",
    "            \"name\": \"RF BAL\",\n",
    "            \"n_estimators\": 30,\n",
    "            \"max_depth\": 3\n",
    "        }\n",
    "    },\n",
    "]"
   ],
   "id": "61186cb9af1cf28",
   "outputs": [],
   "execution_count": 222
  },
  {
   "metadata": {
    "ExecuteTime": {
     "end_time": "2025-01-18T21:16:59.301814Z",
     "start_time": "2025-01-18T21:16:59.293590Z"
    }
   },
   "cell_type": "code",
   "source": [
    "import mlflow\n",
    "import mlflow.sklearn\n",
    "import mlflow.xgboost"
   ],
   "id": "6579258ef65d1257",
   "outputs": [],
   "execution_count": 223
  },
  {
   "metadata": {
    "ExecuteTime": {
     "end_time": "2025-01-18T21:18:01.071773Z",
     "start_time": "2025-01-18T21:16:59.303003Z"
    }
   },
   "cell_type": "code",
   "source": [
    "mlflow.set_experiment(\"Logistic Regression vs Random Forest vs XGBoost vs Balanced XGBoost v4\")\n",
    "mlflow.set_tracking_uri(\"http://127.0.0.1:5000\")\n",
    "\n",
    "for i, element in enumerate(models):\n",
    "    model_name = element['name']\n",
    "    model = element['model']\n",
    "    report = reports[i]\n",
    "    \n",
    "    with mlflow.start_run(run_name=model_name):\n",
    "        mlflow.log_params(element['params'])\n",
    "        \n",
    "        mlflow.log_metric('accuracy', report['accuracy'])\n",
    "        mlflow.log_metric('recall_class_1', report['1']['recall'])\n",
    "        mlflow.log_metric('recall_class_0', report['0']['recall'])\n",
    "        mlflow.log_metric('f1_score_macro', report['macro avg']['f1-score']) \n",
    "        \n",
    "        if \"XGB\" in model_name:\n",
    "            # if model_name == \"XGBClassifier\":\n",
    "            #     model.fit(x_train, y_train)\n",
    "            # else:\n",
    "            #     model.fit(x_train_res, y_train_res)\n",
    "            # mlflow.xgboost.log_model(model, \"model\")\n",
    "            \n",
    "            \n",
    "            \n",
    "            mlflow.xgboost.log_model(model, artifact_path=model_name)\n",
    "                # print(f\"Run ID: {run.info.run_id}\")\n",
    "                \n",
    "        else:\n",
    "            \n",
    "            mlflow.sklearn.log_model(model, artifact_path = model_name)\n",
    "        "
   ],
   "id": "c13de6b90c324032",
   "outputs": [
    {
     "name": "stderr",
     "output_type": "stream",
     "text": [
      "2025/01/18 22:17:09 WARNING mlflow.models.model: Model logged without a signature and input example. Please set `input_example` parameter when logging the model to auto infer the model signature.\n"
     ]
    },
    {
     "name": "stdout",
     "output_type": "stream",
     "text": [
      "🏃 View run Logistic Regression (Imbalanced c = 1) at: http://127.0.0.1:5000/#/experiments/6/runs/c5bf0b643ba549b28b79e05f44e7f849\n",
      "🧪 View experiment at: http://127.0.0.1:5000/#/experiments/6\n"
     ]
    },
    {
     "name": "stderr",
     "output_type": "stream",
     "text": [
      "2025/01/18 22:17:16 WARNING mlflow.models.model: Model logged without a signature and input example. Please set `input_example` parameter when logging the model to auto infer the model signature.\n"
     ]
    },
    {
     "name": "stdout",
     "output_type": "stream",
     "text": [
      "🏃 View run Logistic Regression (Imbalanced c = 0.5) at: http://127.0.0.1:5000/#/experiments/6/runs/48f3db604bc74da784e7775cf1484c22\n",
      "🧪 View experiment at: http://127.0.0.1:5000/#/experiments/6\n"
     ]
    },
    {
     "name": "stderr",
     "output_type": "stream",
     "text": [
      "2025/01/18 22:17:26 WARNING mlflow.models.model: Model logged without a signature and input example. Please set `input_example` parameter when logging the model to auto infer the model signature.\n"
     ]
    },
    {
     "name": "stdout",
     "output_type": "stream",
     "text": [
      "🏃 View run Random Forest (Imbalanced) at: http://127.0.0.1:5000/#/experiments/6/runs/b560e391d7a34ef09e53ab825c77e47e\n",
      "🧪 View experiment at: http://127.0.0.1:5000/#/experiments/6\n"
     ]
    },
    {
     "name": "stderr",
     "output_type": "stream",
     "text": [
      "2025/01/18 22:17:35 WARNING mlflow.models.model: Model logged without a signature and input example. Please set `input_example` parameter when logging the model to auto infer the model signature.\n"
     ]
    },
    {
     "name": "stdout",
     "output_type": "stream",
     "text": [
      "🏃 View run XGBClassifier (Imbalanced) at: http://127.0.0.1:5000/#/experiments/6/runs/824273afc53d4a068803ff85e7b1d70b\n",
      "🧪 View experiment at: http://127.0.0.1:5000/#/experiments/6\n"
     ]
    },
    {
     "name": "stderr",
     "output_type": "stream",
     "text": [
      "2025/01/18 22:17:43 WARNING mlflow.models.model: Model logged without a signature and input example. Please set `input_example` parameter when logging the model to auto infer the model signature.\n"
     ]
    },
    {
     "name": "stdout",
     "output_type": "stream",
     "text": [
      "🏃 View run XGBSMOTE at: http://127.0.0.1:5000/#/experiments/6/runs/2388619a4af949f898c9f34a311929a1\n",
      "🧪 View experiment at: http://127.0.0.1:5000/#/experiments/6\n"
     ]
    },
    {
     "name": "stderr",
     "output_type": "stream",
     "text": [
      "2025/01/18 22:17:52 WARNING mlflow.models.model: Model logged without a signature and input example. Please set `input_example` parameter when logging the model to auto infer the model signature.\n"
     ]
    },
    {
     "name": "stdout",
     "output_type": "stream",
     "text": [
      "🏃 View run Logistic Regression (balanced c = 1) at: http://127.0.0.1:5000/#/experiments/6/runs/b3d64b1c2b424a348621ed973c5afc23\n",
      "🧪 View experiment at: http://127.0.0.1:5000/#/experiments/6\n"
     ]
    },
    {
     "name": "stderr",
     "output_type": "stream",
     "text": [
      "2025/01/18 22:18:00 WARNING mlflow.models.model: Model logged without a signature and input example. Please set `input_example` parameter when logging the model to auto infer the model signature.\n"
     ]
    },
    {
     "name": "stdout",
     "output_type": "stream",
     "text": [
      "🏃 View run Random Forest (balanced) at: http://127.0.0.1:5000/#/experiments/6/runs/94cc708a241a4ed089bdeb3091428921\n",
      "🧪 View experiment at: http://127.0.0.1:5000/#/experiments/6\n"
     ]
    }
   ],
   "execution_count": 224
  },
  {
   "metadata": {},
   "cell_type": "markdown",
   "source": "### Best model Registering",
   "id": "3c9735c78bd260fc"
  },
  {
   "metadata": {
    "ExecuteTime": {
     "end_time": "2025-01-18T21:25:23.596717Z",
     "start_time": "2025-01-18T21:25:23.323419Z"
    }
   },
   "cell_type": "code",
   "source": [
    "result = mlflow.register_model(\n",
    "    # \"runs:/824273afc53d4a068803ff85e7b1d70b/XGB_imbalanced\", \"XGB\"\n",
    "    \"runs:/2388619a4af949f898c9f34a311929a1/XGBSMOTE\", \"XGB\"\n",
    ")"
   ],
   "id": "2a1023c94ac5df26",
   "outputs": [
    {
     "name": "stderr",
     "output_type": "stream",
     "text": [
      "Registered model 'XGB' already exists. Creating a new version of this model...\n",
      "2025/01/18 22:25:23 INFO mlflow.store.model_registry.abstract_store: Waiting up to 300 seconds for model version to finish creation. Model name: XGB, version 2\n",
      "Created version '2' of model 'XGB'.\n"
     ]
    }
   ],
   "execution_count": 234
  },
  {
   "metadata": {
    "ExecuteTime": {
     "end_time": "2025-01-18T22:19:57.869947Z",
     "start_time": "2025-01-18T22:19:57.834002Z"
    }
   },
   "cell_type": "code",
   "source": [
    "from mlflow.tracking import MlflowClient\n",
    "\n",
    "mlflow.set_tracking_uri(\"http://127.0.0.1:5000\")\n",
    "client = MlflowClient()\n",
    "\n",
    "\n",
    "registered_models = client.search_registered_models()\n",
    "for rm in registered_models:\n",
    "    print(rm.name)"
   ],
   "id": "abb9f21d359c2aa6",
   "outputs": [
    {
     "name": "stdout",
     "output_type": "stream",
     "text": [
      "Logistic Regressors\n",
      "Production XGB Classifier\n",
      "XGB\n",
      "XGBSmote\n"
     ]
    }
   ],
   "execution_count": 263
  },
  {
   "metadata": {
    "ExecuteTime": {
     "end_time": "2025-01-18T21:57:45.161780Z",
     "start_time": "2025-01-18T21:57:45.135081Z"
    }
   },
   "cell_type": "code",
   "source": [
    "from mlflow.tracking import MlflowClient\n",
    "\n",
    "client = MlflowClient()\n",
    "model_name = \"XGBSmotet\"\n",
    "\n",
    "for mv in client.search_model_versions(f\"name='{model_name}'\"):\n",
    "    print(f\"Version: {mv.version}, Stage: {mv.current_stage}, URI: {mv.source}\")\n"
   ],
   "id": "e64a6abebede7072",
   "outputs": [
    {
     "name": "stdout",
     "output_type": "stream",
     "text": [
      "Version: 1, Stage: None, URI: file:///C:/Users/amine/PycharmProjects/ML_Flow_Project/mlruns/6/2388619a4af949f898c9f34a311929a1/artifacts/XGBSMOTE\n"
     ]
    }
   ],
   "execution_count": 252
  },
  {
   "metadata": {
    "ExecuteTime": {
     "end_time": "2025-01-18T21:27:41.855339Z",
     "start_time": "2025-01-18T21:27:41.814104Z"
    }
   },
   "cell_type": "code",
   "source": [
    "from mlflow.xgboost import load_model\n",
    "\n",
    "model_uri = \"file:///C:/Users/amine/PycharmProjects/ML_Flow_Project/mlruns/6/13da461719a24cb2b69bdb402309a691/artifacts/XGBSMOTE\"\n",
    "\n",
    "loaded_model = load_model(model_uri)\n",
    "\n",
    "y_predict = loaded_model.predict(x_test)\n",
    "y_predict"
   ],
   "id": "9f6e751bb385d2e7",
   "outputs": [
    {
     "data": {
      "text/plain": [
       "array([0, 0, 0, 0, 0, 0, 0, 0, 0, 0, 1, 0, 0, 1, 0, 0, 0, 0, 0, 0, 1, 0,\n",
       "       0, 0, 0, 0, 0, 0, 0, 0, 0, 0, 1, 0, 0, 0, 0, 0, 0, 0, 0, 0, 0, 0,\n",
       "       0, 0, 0, 0, 0, 1, 0, 0, 0, 0, 1, 0, 0, 0, 0, 0, 0, 0, 0, 0, 0, 0,\n",
       "       0, 0, 0, 0, 0, 1, 0, 0, 0, 0, 0, 0, 1, 0, 0, 0, 0, 0, 0, 1, 0, 0,\n",
       "       0, 0, 0, 1, 0, 1, 1, 0, 1, 0, 0, 0, 0, 0, 0, 0, 0, 0, 0, 0, 0, 0,\n",
       "       0, 0, 1, 0, 0, 0, 0, 0, 0, 0, 0, 0, 0, 0, 0, 0, 0, 0, 1, 0, 0, 0,\n",
       "       0, 1, 1, 0, 0, 0, 0, 0, 1, 0, 0, 0, 0, 0, 1, 0, 0, 0, 0, 0, 0, 0,\n",
       "       0, 0, 0, 0, 0, 0, 0, 0, 0, 0, 0, 0, 0, 0, 0, 0, 0, 0, 1, 0, 0, 0,\n",
       "       0, 0, 0, 1, 0, 0, 0, 0, 0, 0, 0, 0, 0, 0, 0, 0, 0, 0, 0, 0, 0, 0,\n",
       "       0, 0, 0, 0, 0, 0, 0, 0, 0, 0, 0, 0, 0, 0, 0, 0, 1, 0, 0, 0, 0, 0,\n",
       "       0, 0, 0, 0, 0, 0, 0, 0, 0, 0, 0, 0, 0, 0, 0, 0, 0, 0, 0, 0, 0, 0,\n",
       "       0, 0, 0, 1, 0, 0, 0, 0, 0, 0, 0, 0, 0, 0, 0, 0, 0, 0, 0, 0, 0, 0,\n",
       "       0, 1, 1, 0, 0, 0, 0, 0, 1, 0, 0, 0, 0, 0, 0, 0, 0, 0, 0, 1, 0, 0,\n",
       "       0, 0, 0, 0, 0, 0, 1, 1, 0, 1, 1, 0, 0, 0])"
      ]
     },
     "execution_count": 239,
     "metadata": {},
     "output_type": "execute_result"
    }
   ],
   "execution_count": 239
  },
  {
   "metadata": {},
   "cell_type": "markdown",
   "source": "### Transitioning from Dev Envoroment To Production",
   "id": "76d9176289c9c30a"
  },
  {
   "metadata": {
    "ExecuteTime": {
     "end_time": "2025-01-18T21:55:57.792059Z",
     "start_time": "2025-01-18T21:55:57.758952Z"
    }
   },
   "cell_type": "code",
   "source": [
    "from mlflow.tracking import MlflowClient\n",
    "\n",
    "mlflow.set_tracking_uri(\"http://127.0.0.1:5000\")\n",
    "client = MlflowClient()\n",
    "\n",
    "\n",
    "registered_models = client.search_registered_models()\n",
    "for rm in registered_models:\n",
    "    print(rm.name)"
   ],
   "id": "1abed5410ebe45fb",
   "outputs": [
    {
     "name": "stdout",
     "output_type": "stream",
     "text": [
      "Logistic Regressors\n",
      "XGB\n",
      "XGBSmotet\n"
     ]
    }
   ],
   "execution_count": 251
  },
  {
   "metadata": {},
   "cell_type": "code",
   "outputs": [],
   "execution_count": null,
   "source": [
    "run_id = \"2388619a4af949f898c9f34a311929a1\" \n",
    "\n",
    "dev_model_uri = f\"runs:/{run_id}/XGBSMOTE\"\n",
    "registered_model = mlflow.register_model(\n",
    "    model_uri=dev_model_uri,\n",
    "    name=\"Production XGB Classifier\"\n",
    ")"
   ],
   "id": "53268029df2c1f89"
  },
  {
   "metadata": {},
   "cell_type": "markdown",
   "source": "### Champion model could now be packaged and deployed (on AWS For Example)",
   "id": "a7bc9cd821e1bdae"
  },
  {
   "metadata": {},
   "cell_type": "code",
   "outputs": [],
   "execution_count": null,
   "source": [
    "from mlflow.xgboost import load_model\n",
    "\n",
    "model_uri = \"file:///C:/Users/amine/PycharmProjects/ML_Flow_Project/mlruns/6/13da461719a24cb2b69bdb402309a691/artifacts/XGBSMOTE\"\n",
    "\n",
    "loaded_model = load_model(model_uri)\n",
    "\n",
    "y_predict = loaded_model.predict(x_test)\n",
    "y_predict"
   ],
   "id": "51b52b7db4a34f6a"
  }
 ],
 "metadata": {
  "kernelspec": {
   "display_name": "Python 3",
   "language": "python",
   "name": "python3"
  },
  "language_info": {
   "codemirror_mode": {
    "name": "ipython",
    "version": 2
   },
   "file_extension": ".py",
   "mimetype": "text/x-python",
   "name": "python",
   "nbconvert_exporter": "python",
   "pygments_lexer": "ipython2",
   "version": "2.7.6"
  }
 },
 "nbformat": 4,
 "nbformat_minor": 5
}
