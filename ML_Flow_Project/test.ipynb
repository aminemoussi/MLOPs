{
 "cells": [
  {
   "cell_type": "code",
   "id": "initial_id",
   "metadata": {
    "collapsed": true,
    "ExecuteTime": {
     "end_time": "2025-01-18T23:16:00.862723Z",
     "start_time": "2025-01-18T23:15:50.883648Z"
    }
   },
   "source": [
    "import mlflow\n",
    "import numpy as np\n",
    "from mlflow.tracking import MlflowClient\n",
    "\n",
    "mlflow.set_tracking_uri(\"https://dagshub.com/aminemandm/MLOPs.mlflow\")\n",
    "client = MlflowClient()\n",
    "\n",
    "\n",
    "registered_models = client.search_registered_models()\n",
    "for rm in registered_models:\n",
    "    print(rm.name)"
   ],
   "outputs": [
    {
     "name": "stdout",
     "output_type": "stream",
     "text": [
      "Production_Classification\n"
     ]
    }
   ],
   "execution_count": 1
  },
  {
   "metadata": {
    "ExecuteTime": {
     "end_time": "2025-01-18T23:16:34.341531Z",
     "start_time": "2025-01-18T23:16:33.988426Z"
    }
   },
   "cell_type": "code",
   "source": [
    "from mlflow.tracking import MlflowClient\n",
    "\n",
    "client = MlflowClient()\n",
    "model_name = \"Production_Classification\"\n",
    "\n",
    "for mv in client.search_model_versions(f\"name='{model_name}'\"):\n",
    "    print(f\"Version: {mv.version}, Stage: {mv.current_stage}, URI: {mv.source}\")"
   ],
   "id": "1ae63ad0f7cf6ad4",
   "outputs": [
    {
     "name": "stdout",
     "output_type": "stream",
     "text": [
      "Version: 1, Stage: None, URI: mlflow-artifacts:/e18390a07daf4342848d38e898d4b4d0/a306f956d223430297dc0843b02dcfcc/artifacts/XGBSMOTE\n"
     ]
    }
   ],
   "execution_count": 3
  },
  {
   "metadata": {
    "ExecuteTime": {
     "end_time": "2025-01-18T23:21:46.075176Z",
     "start_time": "2025-01-18T23:21:40.361612Z"
    }
   },
   "cell_type": "code",
   "source": [
    "import mlflow\n",
    "from mlflow.xgboost import load_model\n",
    "\n",
    "mlflow.set_tracking_uri(\"https://dagshub.com/aminemandm/MLOPs.mlflow\")\n",
    "\n",
    "model_uri = \"models:/Production_Classification/1\"  \n",
    "loaded_model = load_model(model_uri)\n"
   ],
   "id": "bca476bf79c709e6",
   "outputs": [
    {
     "data": {
      "text/plain": [
       "Downloading artifacts:   0%|          | 0/5 [00:00<?, ?it/s]"
      ],
      "application/vnd.jupyter.widget-view+json": {
       "version_major": 2,
       "version_minor": 0,
       "model_id": "fce53af1ce314a98a1af3cf543009444"
      }
     },
     "metadata": {},
     "output_type": "display_data"
    }
   ],
   "execution_count": 4
  },
  {
   "metadata": {
    "ExecuteTime": {
     "end_time": "2025-01-18T23:25:31.733123Z",
     "start_time": "2025-01-18T23:25:31.721427Z"
    }
   },
   "cell_type": "code",
   "source": [
    "import numpy as np\n",
    "x = [[-2.33224581, -1.73015228, -4.05388142, -0.12314825, 1.45550642, 2.64413143, -2.13427539, 0.85612326, -3.13555024, 1.22003574]]\n",
    "np.array(x)\n",
    "x"
   ],
   "id": "76d1b1bed161a509",
   "outputs": [
    {
     "data": {
      "text/plain": [
       "[[-2.33224581,\n",
       "  -1.73015228,\n",
       "  -4.05388142,\n",
       "  -0.12314825,\n",
       "  1.45550642,\n",
       "  2.64413143,\n",
       "  -2.13427539,\n",
       "  0.85612326,\n",
       "  -3.13555024,\n",
       "  1.22003574]]"
      ]
     },
     "execution_count": 6,
     "metadata": {},
     "output_type": "execute_result"
    }
   ],
   "execution_count": 6
  },
  {
   "metadata": {
    "ExecuteTime": {
     "end_time": "2025-01-18T23:25:51.591840Z",
     "start_time": "2025-01-18T23:25:51.561259Z"
    }
   },
   "cell_type": "code",
   "source": [
    "y = loaded_model.predict(x)\n",
    "y"
   ],
   "id": "6a73731f786b3525",
   "outputs": [
    {
     "data": {
      "text/plain": [
       "array([0])"
      ]
     },
     "execution_count": 8,
     "metadata": {},
     "output_type": "execute_result"
    }
   ],
   "execution_count": 8
  }
 ],
 "metadata": {
  "kernelspec": {
   "display_name": "Python 3",
   "language": "python",
   "name": "python3"
  },
  "language_info": {
   "codemirror_mode": {
    "name": "ipython",
    "version": 2
   },
   "file_extension": ".py",
   "mimetype": "text/x-python",
   "name": "python",
   "nbconvert_exporter": "python",
   "pygments_lexer": "ipython2",
   "version": "2.7.6"
  }
 },
 "nbformat": 4,
 "nbformat_minor": 5
}
